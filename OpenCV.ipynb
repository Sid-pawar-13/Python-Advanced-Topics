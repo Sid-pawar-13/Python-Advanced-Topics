{
 "cells": [
  {
   "cell_type": "markdown",
   "metadata": {},
   "source": [
    "Syntax: cv2.imread(path, flag)\n",
    "Parameters:\n",
    "(path: A string representing the path of the image to be read.\n",
    "flag: It specifies the way in which image should be read. It’s default value is cv2.IMREAD_COLOR)\n",
    "Return Value: This method returns an image that is loaded from the specified file.\n",
    "\n",
    "cv2.IMREAD_COLOR: It specifies to load a color image. Any transparency of image will be neglected. It is the default flag. Alternatively, we can pass integer value 1 for this flag.\n",
    "cv2.IMREAD_GRAYSCALE: It specifies to load an image in grayscale mode. Alternatively, we can pass integer value 0 for this flag.\n",
    "cv2.IMREAD_UNCHANGED: It specifies to load an image as such including alpha channel. Alternatively, we can pass integer value -1 for this flag.\n",
    "\n",
    "\n"
   ]
  },
  {
   "cell_type": "code",
   "execution_count": null,
   "metadata": {},
   "outputs": [],
   "source": [
    "import cv2\n",
    " \n",
    "# To read image from disk, we use\n",
    "# cv2.imread function, in below method,\n",
    "img = cv2.imread(\"D:/GitHub/Python-Advanced-Topics/tomato.jpg\", cv2.IMREAD_COLOR)\n",
    " \n",
    "# Creating GUI window to display an image on screen\n",
    "# first Parameter is windows title (should be in string format)\n",
    "# Second Parameter is image array\n",
    "cv2.imshow(\"tomato\", img)\n",
    " \n",
    "# To hold the window on screen, we use cv2.waitKey method\n",
    "# Once it detected the close input, it will release the control\n",
    "# To the next line\n",
    "# First Parameter is for holding screen for specified milliseconds\n",
    "# It should be positive integer. If 0 pass an parameter, then it will\n",
    "# hold the screen until user close it.\n",
    "cv2.waitKey(0)\n",
    " \n",
    "# It is for removing/deleting created GUI window from screen\n",
    "# and memory\n",
    "cv2.destroyAllWindows()\n"
   ]
  },
  {
   "cell_type": "code",
   "execution_count": null,
   "metadata": {},
   "outputs": [],
   "source": [
    "#Opening in grascale mode\n",
    "path = r'D:/GitHub/Python-Advanced-Topics/tomato.jpg'\n",
    " \n",
    "img = cv2.imread(path, 0) \n",
    " \n",
    "# Displaying the image \n",
    "cv2.imshow('image', img)\n",
    "cv2.waitKey(0)\n",
    "cv2.destroyAllWindows()"
   ]
  },
  {
   "cell_type": "markdown",
   "metadata": {},
   "source": [
    "cv2.imshow() method is used to display an image in a window. The window automatically fits to the image size."
   ]
  },
  {
   "cell_type": "markdown",
   "metadata": {},
   "source": [
    "Syntax: cv2.imshow(window_name, image)\n",
    "Parameters: \n",
    "(window_name: A string representing the name of the window in which image to be displayed. \n",
    "image: It is the image that is to be displayed.)\n",
    "Return Value: It doesn’t returns anything. \n"
   ]
  },
  {
   "cell_type": "code",
   "execution_count": null,
   "metadata": {},
   "outputs": [],
   "source": [
    "path = r\"D:/GitHub/Python-Advanced-Topics/tomato.jpg\"\n",
    "  \n",
    "# Reading an image in default mode \n",
    "image = cv2.imread(path) \n",
    "  \n",
    "# Window name in which image is displayed \n",
    "window_name = 'image'\n",
    "  \n",
    "# Using cv2.imshow() method  \n",
    "# Displaying the image  \n",
    "cv2.imshow(window_name, image) \n",
    "  \n",
    "#waits for user to press any key  \n",
    "#(this is necessary to avoid Python kernel form crashing) \n",
    "cv2.waitKey(0)  \n",
    "  \n",
    "#closing all open windows  \n",
    "cv2.destroyAllWindows()  \n"
   ]
  },
  {
   "cell_type": "code",
   "execution_count": null,
   "metadata": {},
   "outputs": [],
   "source": [
    "path = r\"D:/GitHub/Python-Advanced-Topics/tomato.jpg\"\n",
    "  \n",
    "# Reading an image in grayscale mode \n",
    "image = cv2.imread(path, 0) \n",
    "  \n",
    "# Window name in which image is displayed \n",
    "window_name = 'image'\n",
    "  \n",
    "# Using cv2.imshow() method \n",
    "# Displaying the image \n",
    "cv2.imshow(window_name, image) \n",
    "  \n",
    "# waits for user to press any key \n",
    "# (this is necessary to avoid Python kernel form crashing) \n",
    "cv2.waitKey(0) \n",
    "cv2.destroyAllWindows() \n",
    "  \n"
   ]
  },
  {
   "cell_type": "markdown",
   "metadata": {},
   "source": [
    "cv2.imwrite() method is used to save an image to any storage device. This will save the image according to the specified format in current working directory."
   ]
  },
  {
   "cell_type": "markdown",
   "metadata": {},
   "source": [
    "Syntax: cv2.imwrite(filename, image)\n",
    "Parameters:\n",
    "filename: A string representing the file name. The filename must include image format like .jpg, .png, etc.\n",
    "image: It is the image that is to be saved.\n",
    "Return Value: It returns true if image is saved successfully.\n"
   ]
  },
  {
   "cell_type": "code",
   "execution_count": null,
   "metadata": {},
   "outputs": [],
   "source": [
    "import cv2 \n",
    "  \n",
    "# importing os module   \n",
    "import os \n",
    "  \n",
    "# Image path \n",
    "image_path = r'D:/GitHub/Python-Advanced-Topics/tomato.jpg'\n",
    "  \n",
    "# Image directory \n",
    "directory = r'D:/GitHub/Python-Advanced-Topics'\n",
    "  \n",
    "# Using cv2.imread() method \n",
    "# to read the image \n",
    "img = cv2.imread(image_path) \n",
    "  \n",
    "# Change the current directory  \n",
    "# to specified directory  \n",
    "os.chdir(directory) \n",
    "  \n",
    "# List files and directories   \n",
    "   \n",
    "print(\"Before saving image:\")   \n",
    "print(os.listdir(directory))   \n",
    "  \n",
    "# Filename \n",
    "filename = 'savedImage.png'\n",
    "  \n",
    "# Using cv2.imwrite() method \n",
    "# Saving the image \n",
    "cv2.imwrite(filename, img) \n",
    "  \n",
    "# List files and directories   \n",
    "  \n",
    "print(\"After saving image:\")   \n",
    "print(os.listdir(directory)) \n",
    "  \n",
    "print('Successfully saved') \n"
   ]
  },
  {
   "cell_type": "markdown",
   "metadata": {},
   "source": [
    "Color spaces are a way to represent the color channels present in the image that gives the image that particular hue. There are several different color spaces and each has its own significance.\n",
    "Some of the popular color spaces are RGB (Red, Green, Blue), CMYK (Cyan, Magenta, Yellow, Black), HSV (Hue, Saturation, Value), etc.\n",
    "\n",
    "BGR color space: OpenCV’s default color space is RGB. However, it actually stores color in the BGR format. It is an additive color model where the different intensities of Blue, Green and Red give different shades of color.\n",
    "\n",
    " \n",
    "HSV color space: It stores color information in a cylindrical representation of RGB color points. It attempts to depict the colors as perceived by the human eye. Hue value varies from 0-179, Saturation value varies from 0-255 and Value value varies from 0-255. It is mostly used for color segmentation purpose.\n",
    "\n",
    " \n",
    "CMYK color space: Unlike, RGB it is a subtractive color space. The CMYK model works by partially or entirely masking colors on a lighter, usually white, background. The ink reduces the light that would otherwise be reflected. Such a model is called subtractive because inks “subtract” the colors red, green and blue from white light. White light minus red leaves cyan, white light minus green leaves magenta, and white light minus blue leaves yellow.\n",
    " \n"
   ]
  },
  {
   "cell_type": "code",
   "execution_count": null,
   "metadata": {},
   "outputs": [],
   "source": [
    "#Visualizing the different color channels of an RGB image.\n",
    "image = cv2.imread('D:/GitHub/Python-Advanced-Topics/tomato.jpg') \n",
    "B, G, R = cv2.split(image) \n",
    "# Corresponding channels are seperated \n",
    "  \n",
    "cv2.imshow(\"original\", image) \n",
    "cv2.waitKey(0) \n",
    "  \n",
    "cv2.imshow(\"blue\", B) \n",
    "cv2.waitKey(0) \n",
    "  \n",
    "cv2.imshow(\"Green\", G) \n",
    "cv2.waitKey(0) \n",
    "  \n",
    "cv2.imshow(\"red\", R) \n",
    "cv2.waitKey(0) \n",
    "  \n",
    "cv2.destroyAllWindows() \n"
   ]
  },
  {
   "cell_type": "markdown",
   "metadata": {},
   "source": [
    "We can add two images by using function cv2.add(). This directly adds up image pixels in the two images.\n",
    "Syntax: cv2.add(img1, img2)\n",
    "\n",
    "Syntax: cv2.addWeighted(img1, wt1, img2, wt2, gammaValue)\n",
    "Parameters:\n",
    "img1: First Input Image array(Single-channel, 8-bit or floating-point)\n",
    "wt1: Weight of the first input image elements to be applied to the final image\n",
    "img2: Second Input Image array(Single-channel, 8-bit or floating-point)\n",
    "wt2: Weight of the second input image elements to be applied to the final image\n",
    "gammaValue: Measurement of light\n",
    "\n"
   ]
  },
  {
   "cell_type": "code",
   "execution_count": null,
   "metadata": {},
   "outputs": [],
   "source": [
    "import cv2  \n",
    "import numpy as np  \n",
    "    \n",
    "# path to input images are specified and   \n",
    "# images are loaded with imread command  \n",
    "image1 = cv2.imread('input1.jpg')  \n",
    "image2 = cv2.imread('input2.jpg') \n",
    "  \n",
    "# cv2.addWeighted is applied over the \n",
    "# image inputs with applied parameters \n",
    "weightedSum = cv2.addWeighted(image1, 0.5, image2, 0.4, 0) \n",
    "  \n",
    "# the window showing output image \n",
    "# with the weighted sum  \n",
    "cv2.imshow('Weighted Image', weightedSum) \n",
    "  \n",
    "# De-allocate any associated memory usage   \n",
    "if cv2.waitKey(0) & 0xff == 27:  \n",
    "    cv2.destroyAllWindows()  \n"
   ]
  },
  {
   "cell_type": "markdown",
   "metadata": {},
   "source": [
    "Image resizing refers to the scaling of images. Scaling comes handy in many image processing as well as machine learning applications. It helps in reducing the number of pixels from an image and that has several advantages e.g. It can reduce the time of training of a neural network as more is the number of pixels in an image more is the number of input nodes that in turn increases the complexity of the model.\n",
    "It also helps in zooming in images. Many times we need to resize the image i.e. either shirk it or scale up to meet the size requirements. OpenCV provides us several interpolation methods for resizing an image.\n",
    "Choice of Interpolation Method for Resizing –\n",
    "•\tcv2.INTER_AREA: This is used when we need need to shrink an image.\n",
    "•\tcv2.INTER_CUBIC: This is slow but more efficient.\n",
    "•\tcv2.INTER_LINEAR: This is primarily used when zooming is required. This is the default interpolation technique in OpenCV.\n"
   ]
  },
  {
   "cell_type": "code",
   "execution_count": null,
   "metadata": {},
   "outputs": [],
   "source": [
    "import cv2 \n",
    "import numpy as np \n",
    "import matplotlib.pyplot as plt  \n",
    "%matplotlib inline \n",
    "# This is a magic command to display in an external window \n",
    "  \n",
    "image = cv2.imread(\"D:/GitHub/Python-Advanced-Topics/tomato.jpg\", 1) \n",
    "# Loading the image \n",
    "  \n",
    "half = cv2.resize(image, (0, 0), fx = 0.1, fy = 0.1) \n",
    "bigger = cv2.resize(image, (1050, 1610)) \n",
    "  \n",
    "stretch_near = cv2.resize(image, (780, 540),  \n",
    "               interpolation = cv2.INTER_NEAREST) \n",
    "  \n",
    "Titles =[\"Original\", \"Half\", \"Bigger\", \"Interpolation Nearest\"] \n",
    "images =[image, half, bigger, stretch_near] \n",
    "count = 4\n",
    "  \n",
    "for i in range(count): \n",
    "    plt.subplot(2, 2, i + 1) \n",
    "    plt.title(Titles[i]) \n",
    "    plt.imshow(images[i]) \n",
    "plt.show() \n",
    "\n"
   ]
  },
  {
   "cell_type": "markdown",
   "metadata": {},
   "source": [
    "Image blurring using OpenCV\n",
    "\n",
    "Image Blurring refers to making the image less clear or distinct. It is done with the help of various low pass filter kernels.\n",
    "Advantages of blurring:\n",
    "•\tIt helps in Noise removal. As noise is considered as high pass signal so by the application of low pass filter kernel we restrict noise.\n",
    "•\tIt helps in smoothing the image.\n",
    "•\tLow intensity edges are removed.\n",
    "•\tIt helps in hiding the details when necessary. For e.g. in many cases police deliberately want to hide the face of the victim, in such cases blurring is required.\n",
    "Important types of blurring:\n",
    "•\tGaussian Blurring:Gaussian blur is the result of blurring an image by a Gaussian function. It is a widely used effect in graphics software, typically to reduce image noise and reduce detail. It is also used as a preprocessing stage before applying our machine learning or deep learning models.\n",
    "E.g. of a Gaussian kernel(3×3)\n",
    " \n",
    "•\tMedian Blur: The Median Filter is a non-linear digital filtering technique, often used to remove noise from an image or signal. Median filtering is very widely used in digital image processing because, under certain conditions, it preserves edges while removing noise. It is one of the best algorithms to remove Salt and pepper noise.\n",
    "•\tBilateral Blur: A bilateral filter is a non-linear, edge-preserving, and noise-reducing smoothing filter for images. It replaces the intensity of each pixel with a weighted average of intensity values from nearby pixels. This weight can be based on a Gaussian distribution. Thus, sharp edges are preserved while discarding the weak ones.\n"
   ]
  },
  {
   "cell_type": "code",
   "execution_count": null,
   "metadata": {},
   "outputs": [],
   "source": [
    "import cv2 \n",
    "import numpy as np \n",
    "  \n",
    "image = cv2.imread('D:/GitHub/Python-Advanced-Topics/tomato.jpg') \n",
    "  \n",
    "cv2.imshow('Original Image', image) \n",
    "cv2.waitKey(0) \n",
    "  \n",
    "# Gaussian Blur \n",
    "Gaussian = cv2.GaussianBlur(image, (7, 7), 0) \n",
    "cv2.imshow('Gaussian Blurring', Gaussian) \n",
    "cv2.waitKey(0) \n",
    "  \n",
    "# Median Blur \n",
    "median = cv2.medianBlur(image, 5) \n",
    "cv2.imshow('Median Blurring', median) \n",
    "cv2.waitKey(0) \n",
    "# Bilateral Blur \n",
    "bilateral = cv2.bilateralFilter(image, 9, 75, 75) \n",
    "cv2.imshow('Bilateral Blurring', bilateral) \n",
    "cv2.waitKey(0) \n",
    "cv2.destroyAllWindows() \n",
    "\n"
   ]
  },
  {
   "cell_type": "markdown",
   "metadata": {},
   "source": [
    "#cv2.copyMakeBorder() method is used to create a border around the image like a photo frame.\n",
    "\n",
    "Syntax: cv2.copyMakeBorder(src, top, bottom, left, right, borderType, value)\n",
    "Parameters:\n",
    "src: It is the source image.\n",
    "top: It is the border width in number of pixels in top direction.\n",
    "bottom: It is the border width in number of pixels in bottom direction.\n",
    "left: It is the border width in number of pixels in left direction.\n",
    "right: It is the border width in number of pixels in right direction.\n",
    "borderType: It depicts what kind of border to be added. It is defined by flags like cv2.BORDER_CONSTANT, cv2.BORDER_REFLECT, etc\n",
    "value: It is an optional parameter which depicts color of border if border type is cv2.BORDER_CONSTANT.\n",
    "Return Value: It returns an image.\n",
    "\n",
    "\n",
    "cv2.BORDER_CONSTANT: It adds a constant colored border. The value should be given as next argument.\n",
    "cv2.BORDER_REFLECT: The border will be mirror reflection of the border elements. Suppose, if image contains letters “abcdefg” then output will be “gfedcba|abcdefg|gfedcba“.\n",
    "cv2.BORDER_REFLECT_101 or cv2.BORDER_DEFAULT: It does the same works as cv2.BORDER_REFLECT but with slight change. Suppose, if image contains letters “abcdefgh” then output will be “gfedcb|abcdefgh|gfedcba“.\n",
    "cv2.BORDER_REPLICATE: It replicates the last element. Suppose, if image contains letters “abcdefgh” then output will be “aaaaa|abcdefgh|hhhhh“.\n"
   ]
  },
  {
   "cell_type": "code",
   "execution_count": null,
   "metadata": {},
   "outputs": [],
   "source": [
    "path = r'D:/GitHub/Python-Advanced-Topics/tomato.jpg'\n",
    "   \n",
    "# Reading an image in default mode \n",
    "image = cv2.imread(path) \n",
    "   \n",
    "# Window name in which image is displayed \n",
    "window_name = 'Image'\n",
    "  \n",
    "# Using cv2.copyMakeBorder() method \n",
    "image = cv2.copyMakeBorder(image, 10, 10, 10, 10, cv2.BORDER_CONSTANT) \n",
    "  \n",
    "# Displaying the image  \n",
    "cv2.imshow(window_name, image) \n"
   ]
  },
  {
   "cell_type": "code",
   "execution_count": null,
   "metadata": {},
   "outputs": [],
   "source": [
    "path = r'D:/GitHub/Python-Advanced-Topics/tomato.jpg'\n",
    "   \n",
    "# Reading an image in default mode \n",
    "image = cv2.imread(path) \n",
    "   \n",
    "# Window name in which image is displayed \n",
    "window_name = 'Image'\n",
    "  \n",
    "# Using cv2.copyMakeBorder() method \n",
    "image = cv2.copyMakeBorder(image, 100, 100, 50, 50, cv2.BORDER_REFLECT) \n",
    "  \n",
    "# Displaying the image  \n",
    "cv2.imshow(window_name, image) \n",
    "\n"
   ]
  },
  {
   "cell_type": "markdown",
   "metadata": {},
   "source": [
    "Grayscaling of Images using OpenCV\n",
    "\n",
    "\n",
    "Grayscaling is the process of converting an image from other color spaces e.g RGB, CMYK, HSV, etc. to shades of gray. It varies between complete black and complete white.\n",
    "Importance of grayscaling –\n",
    "•\tDimension reduction: For e.g. In RGB images there are three color channels and has three dimensions while grayscaled images are single dimensional.\n",
    "•\tReduces model complexity: Consider training neural article on RGB images of 10x10x3 pixel.The input layer will have 300 input nodes. On the other hand, the same neural network will need only 100 input node for grayscaled images.\n",
    "•\tFor other algorithms to work: There are many algorithms that are customized to work only on grayscaled images e.g. Canny edge detection function pre-implemented in OpenCV library works on Grayscaled images only.\n"
   ]
  },
  {
   "cell_type": "code",
   "execution_count": null,
   "metadata": {},
   "outputs": [],
   "source": [
    "import cv2 \n",
    "  \n",
    "# Load our input image \n",
    "image = cv2.imread('D:/GitHub/Python-Advanced-Topics/tomato.jpg') \n",
    "cv2.imshow('Original', image) \n",
    "cv2.waitKey() \n",
    "  \n",
    "# We use cvtColor, to convert to grayscale \n",
    "gray_image = cv2.cvtColor(image, cv2.COLOR_BGR2GRAY) \n",
    "  \n",
    "cv2.imshow('Grayscale', gray_image) \n",
    "cv2.waitKey(0)   \n",
    "  \n",
    "# window shown waits for any key pressing event \n",
    "cv2.destroyAllWindows()\n"
   ]
  },
  {
   "cell_type": "code",
   "execution_count": null,
   "metadata": {},
   "outputs": [],
   "source": [
    "# Faster method \n",
    "import cv2 \n",
    "  \n",
    "# The second argument zero specifies that \n",
    "# image is to be read in grayscale mode. \n",
    "img = cv2.imread('D:/GitHub/Python-Advanced-Topics/tomato.jpg', 0)   \n",
    "  \n",
    "cv2.imshow('Grayscale', img) \n",
    "cv2.waitKey() \n",
    "  \n",
    "cv2.destroyAllWindows() \n"
   ]
  }
 ],
 "metadata": {
  "kernelspec": {
   "display_name": "Python 3",
   "language": "python",
   "name": "python3"
  },
  "language_info": {
   "codemirror_mode": {
    "name": "ipython",
    "version": 3
   },
   "file_extension": ".py",
   "mimetype": "text/x-python",
   "name": "python",
   "nbconvert_exporter": "python",
   "pygments_lexer": "ipython3",
   "version": "3.8.7"
  }
 },
 "nbformat": 4,
 "nbformat_minor": 4
}
